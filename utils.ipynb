{
 "cells": [
  {
   "cell_type": "code",
   "execution_count": 1,
   "id": "initial_id",
   "metadata": {
    "collapsed": true,
    "ExecuteTime": {
     "end_time": "2024-02-03T18:58:21.277397200Z",
     "start_time": "2024-02-03T18:58:21.050397100Z"
    }
   },
   "outputs": [],
   "source": [
    "from configparser import ConfigParser\n",
    "from pathlib import Path\n",
    "\n",
    "import sqlalchemy as sa\n",
    "\n",
    "import requests"
   ]
  },
  {
   "cell_type": "code",
   "outputs": [],
   "source": [
    "\n",
    "def read_api_credentials(config_file: Path, section: str) ->  dict:\n",
    "    config = ConfigParser()\n",
    "    config.read(config_file)\n",
    "    api_credentials = dict(config[section])\n",
    "    return api_credentials\n",
    "\n"
   ],
   "metadata": {
    "collapsed": false,
    "ExecuteTime": {
     "end_time": "2024-02-03T18:58:21.295400500Z",
     "start_time": "2024-02-03T18:58:21.280398100Z"
    }
   },
   "id": "e037c555c9f11602",
   "execution_count": 2
  },
  {
   "cell_type": "code",
   "outputs": [],
   "source": [
    "def read_config_file(file_path: str) ->  ConfigParser:\n",
    "    config = ConfigParser()\n",
    "    config.read(file_path)\n",
    "    return config"
   ],
   "metadata": {
    "collapsed": false,
    "ExecuteTime": {
     "end_time": "2024-02-03T18:58:21.306399700Z",
     "start_time": "2024-02-03T18:58:21.295400500Z"
    }
   },
   "id": "53835d520c2abe74",
   "execution_count": 3
  },
  {
   "cell_type": "code",
   "outputs": [],
   "source": [
    "def build_conn_string(config: ConfigParser, section: str, dbengine: str) -> str:\n",
    "    host = config.get(section, \"host\")\n",
    "    port = config.get(section, \"port\")\n",
    "    user = config.get(section, \"db_user\")\n",
    "    password = config.get(section, \"pwd\")\n",
    "    database = config.get(section, \"db_name\")\n",
    "    \n",
    "    conn_string = f\"{dbengine}://{user}:{password}@{host}:{port}/{database}\"\n",
    "    \n",
    "    return conn_string\n"
   ],
   "metadata": {
    "collapsed": false,
    "ExecuteTime": {
     "end_time": "2024-02-03T18:58:21.323397Z",
     "start_time": "2024-02-03T18:58:21.310397800Z"
    }
   },
   "id": "b4e51d906cac3159",
   "execution_count": 4
  },
  {
   "cell_type": "code",
   "outputs": [],
   "source": [
    "def connect_to_db(conn_string):\n",
    "    \"\"\"\n",
    "    Crea una conexión a la base de datos.\n",
    "\n",
    "    Parametros:\n",
    "    conn_string: cadena de conexión a la base de datos\n",
    "\n",
    "    Retorna:\n",
    "    conn: objeto de conexión a la base de datos\n",
    "    \"\"\"\n",
    "    engine = sa.create_engine(conn_string)\n",
    "    conn = engine.connect()\n",
    "    return conn"
   ],
   "metadata": {
    "collapsed": false,
    "ExecuteTime": {
     "end_time": "2024-02-03T18:58:21.354396400Z",
     "start_time": "2024-02-03T18:58:21.342398800Z"
    }
   },
   "id": "7669079f4a29f55d",
   "execution_count": 6
  }
 ],
 "metadata": {
  "kernelspec": {
   "display_name": "Python 3",
   "language": "python",
   "name": "python3"
  },
  "language_info": {
   "codemirror_mode": {
    "name": "ipython",
    "version": 2
   },
   "file_extension": ".py",
   "mimetype": "text/x-python",
   "name": "python",
   "nbconvert_exporter": "python",
   "pygments_lexer": "ipython2",
   "version": "2.7.6"
  }
 },
 "nbformat": 4,
 "nbformat_minor": 5
}
